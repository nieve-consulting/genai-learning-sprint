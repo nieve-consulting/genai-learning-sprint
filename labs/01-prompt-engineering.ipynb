{
 "cells": [
  {
   "cell_type": "markdown",
   "id": "6646706b",
   "metadata": {},
   "source": [
    "# Prompt Engineering"
   ]
  },
  {
   "cell_type": "markdown",
   "id": "f5dd0a36",
   "metadata": {},
   "source": [
    "Prompt Engineering is a nuanced practice that involves formulating questions and statements to effectively communicate with AI, specifically Large Language Models. It's a blend of analytical thinking and creativity, essential for translating human intentions into a language that AI can process and respond to accurately. This skill is crucial across a spectrum of AI applications, from automating creative tasks to enhancing technical analyses, ensuring that the AI's responses are as relevant and useful as possible."
   ]
  },
  {
   "cell_type": "markdown",
   "id": "3f88e989",
   "metadata": {},
   "source": [
    "# Linguistics"
   ]
  },
  {
   "cell_type": "markdown",
   "id": "3ff2f1d7",
   "metadata": {},
   "source": [
    "Linguistics is the study of language. They play a key role in prompt engineering. Understanding the nuances of language and how it is used in different contexts is crucial for crafting effective prompts. Additionally, knowing hoe to use grammar and language structure that is universally used will result in the AI system returning back the most accurate results.\n"
   ]
  },
  {
   "cell_type": "code",
   "execution_count": null,
   "id": "134429d9",
   "metadata": {},
   "outputs": [],
   "source": [
    "from transformers import pipeline\n",
    "from huggingface_hub import login"
   ]
  },
  {
   "cell_type": "code",
   "execution_count": null,
   "id": "4ad583cc",
   "metadata": {
    "scrolled": false
   },
   "outputs": [],
   "source": [
    "login(\"<token>\")"
   ]
  },
  {
   "cell_type": "markdown",
   "id": "0bb324f2",
   "metadata": {},
   "source": [
    "# **What is a Quantized Model?**\n",
    "Quantization: This is a process that reduces the precision of the numbers used in a neural network. Typically, neural networks use 32-bit floating-point numbers for their weights and activations. Quantization involves converting these 32-bit numbers into a lower bit format, such as 8-bit integers."
   ]
  },
  {
   "cell_type": "code",
   "execution_count": null,
   "id": "6803dfd1",
   "metadata": {},
   "outputs": [],
   "source": [
    "model_name = \"meta-llama/Llama-2-7b-chat-hf\"\n",
    "generator = pipeline('text-generation', model=model_name)"
   ]
  },
  {
   "cell_type": "markdown",
   "id": "fb9661c9",
   "metadata": {},
   "source": [
    "## Types of Prompts"
   ]
  },
  {
   "cell_type": "markdown",
   "id": "ad3e6f87",
   "metadata": {},
   "source": [
    "### Discrete Prompts"
   ]
  },
  {
   "cell_type": "markdown",
   "id": "783e4598",
   "metadata": {},
   "source": [
    "Discrete prompts are explicit instructions or questions directed to the language model. These can range from simple commands to complex questions. The effectiveness of a prompt can significantly impact the quality of the model's output."
   ]
  },
  {
   "cell_type": "code",
   "execution_count": null,
   "id": "1e09d210",
   "metadata": {},
   "outputs": [],
   "source": [
    "\"\"\"\n",
    "This prompt is discrete because it provides a clear and direct \n",
    "task for the model – to compose a poem, and it specifies the \n",
    "subject of the poem – the ocean. There's no ambiguity in what \n",
    "is being asked, making it easier for the model to understand \n",
    "and respond effectively.\n",
    "\"\"\"\n",
    "discrete_prompt =  \"Write a poem about the ocean.\"\n",
    "response = generator(discrete_prompt, max_length=100)\n",
    "print(response[0]['generated_text'])"
   ]
  },
  {
   "cell_type": "markdown",
   "id": "b83ac551",
   "metadata": {},
   "source": [
    "### Soft Prompts"
   ]
  },
  {
   "cell_type": "markdown",
   "id": "cfc2ac63",
   "metadata": {},
   "source": [
    "Soft prompts are more about suggestion than direct instruction. They nudge the model towards a certain tone, style, or topic without being explicit."
   ]
  },
  {
   "cell_type": "code",
   "execution_count": null,
   "id": "2aaa5d42",
   "metadata": {},
   "outputs": [],
   "source": [
    "\"\"\"\n",
    "In this example, the prompt doesn't directly ask the model to do \n",
    "anything specific, like write a poem or a story. Instead, it sets a \n",
    "scene and a mood — serenity and peace by the sea — and gently nudges \n",
    "the model to generate content in line with this imagery and atmosphere.\n",
    "This approach leaves more room for creative interpretation compared to \n",
    "a discrete prompt.\n",
    "\"\"\"\n",
    "soft_prompt =  \"Imagine a serene and peaceful day by the sea, where the waves gently lap against the shore.\"\n",
    "response = generator(soft_prompt, max_length=100)\n",
    "print(response[0]['generated_text'])"
   ]
  },
  {
   "cell_type": "markdown",
   "id": "8b94ab51",
   "metadata": {},
   "source": [
    "## In-Context Learning"
   ]
  },
  {
   "cell_type": "markdown",
   "id": "47fc46d4",
   "metadata": {},
   "source": [
    "In-context learning refers to the model's ability to pick up on cues from the provided context to give an appropriate response."
   ]
  },
  {
   "cell_type": "code",
   "execution_count": null,
   "id": "c4c6b22d",
   "metadata": {},
   "outputs": [],
   "source": [
    "\"\"\"\n",
    "In this example, the model uses the context provided in the \n",
    "prompt (John's actions and realization) to infer and predict what John \n",
    "is likely to do next. It understands from the context that John has \n",
    "just returned from an orchard, and upon realizing he wants oranges, \n",
    "it's logical to infer he might return to the orchard or visit a store \n",
    "to satisfy this new desire. This demonstrates the model's ability to \n",
    "use the given context to form a coherent and contextually appropriate \n",
    "response.\n",
    "\"\"\"\n",
    "in_context_prompt =  \"John went to the orchard to pick apples.He filled his basket and returned home. Once home, he realized he also wanted oranges. Question: What is John likely to do next?\"\n",
    "response = generator(in_context_prompt, max_length=100)\n",
    "print(response[0]['generated_text'])"
   ]
  },
  {
   "cell_type": "markdown",
   "id": "4e241b18",
   "metadata": {},
   "source": [
    "## Few-Shot Learning"
   ]
  },
  {
   "cell_type": "markdown",
   "id": "5404bdf1",
   "metadata": {},
   "source": [
    "Few-shot learning is about providing examples in the prompt to teach the model what kind of output you expect."
   ]
  },
  {
   "cell_type": "code",
   "execution_count": null,
   "id": "68b5995a",
   "metadata": {},
   "outputs": [],
   "source": [
    "\"\"\"\n",
    "In this example, the first two sentences and their corresponding \n",
    "questions serve as examples for the model. The model is then expected \n",
    "to apply the learned pattern to a new sentence. By providing a few \n",
    "examples, the prompt guides the model in understanding the task of \n",
    "converting statements into questions, demonstrating few-shot learning.\n",
    "\"\"\"\n",
    "few_shot_prompt =  \"I will provide you with a few examples of converting sentences to questions. Follow the pattern to convert the given sentence into a question.Example 1: Sentence: 'He is playing guitar.' Question: 'Is he playing guitar?'Example 2: Sentence: 'They were watching a movie.' Question: 'Were they watching a movie?'Now, convert this sentence to a question: 'She was reading a book.'\"\n",
    "response = generator(few_shot_prompt, max_length=200)\n",
    "print(response[0]['generated_text'])"
   ]
  },
  {
   "cell_type": "markdown",
   "id": "b0d1e9ea",
   "metadata": {},
   "source": [
    "## Designing Effective Prompts"
   ]
  },
  {
   "cell_type": "markdown",
   "id": "30d36de4",
   "metadata": {},
   "source": [
    "Designing effective prompts is a skill that combines creativity with an understanding of the model's inner workings. Effective prompts need to be clear, relevant, specific, and well-balanced.\n"
   ]
  },
  {
   "cell_type": "markdown",
   "id": "6d63fe0c",
   "metadata": {},
   "source": [
    "## Good vs Bad Prompts\n",
    "Prompt engineering is not just about crafting a request to a language model; it's about doing so in a way that the model can understand and respond to effectively. The quality of the prompt can greatly influence the quality of the output. Here, we'll look at some characteristics of good and bad prompts and see examples of each.\n",
    "Characteristics of Good Prompts: Clear and Specific: Good prompts provide clear instructions or questions that are directly related to the desired output. Contextually Rich: They provide enough context to guide the model in the direction of the expected response. Balanced Detail: They include just the right amount of detail—enough to direct the model without over-constraining its responses. Aligned With Model's Training: They are aligned with the type of content and format the model was trained on. Characteristics of Bad Prompts: Vague or Ambiguous: Bad prompts are unclear, which can lead to irrelevant or off-topic responses from the model. Lacking Context: Without context, the model may not understand the prompt's intent or may provide generic answers. Overly Detailed or Restrictive: Prompts that are too specific may limit the model's ability to generate creative or comprehensive responses. Mismatched to Model's Training: Using a style or requesting information that the model wasn't trained on can result in poor performance."
   ]
  },
  {
   "cell_type": "markdown",
   "id": "66cfceb4",
   "metadata": {},
   "source": [
    "### 1. Clarity"
   ]
  },
  {
   "cell_type": "markdown",
   "id": "7a77e54a",
   "metadata": {},
   "source": [
    "Clarity in a prompt means being direct and straightforward, avoiding ambiguity."
   ]
  },
  {
   "cell_type": "code",
   "execution_count": null,
   "id": "2ff29bc8",
   "metadata": {},
   "outputs": [],
   "source": [
    "\"\"\"\n",
    "This prompt is specific and direct. It leads to focused and relevant responses from the AI.\n",
    "\"\"\"\n",
    "\n",
    "clear_prompt = \"Summarize the main events in the novel 'Tell Me Your Dreams' by Sydney Sheldon.\"\n",
    "\n",
    "response = generator(clear_prompt, max_length=500)\n",
    "print(response[0]['generated_text'])"
   ]
  },
  {
   "cell_type": "code",
   "execution_count": null,
   "id": "bbe13b43",
   "metadata": {},
   "outputs": [],
   "source": [
    "\"\"\"\n",
    "This prompt is broad and unspecific. It often results in generic or irrelevant answers because the AI \n",
    "lacks clear guidance.\n",
    "\"\"\"\n",
    "\n",
    "vague_prompt = \"Tell me something about a book.\"\n",
    "response = generator(vague_prompt, max_length=500)\n",
    "print(response[0]['generated_text'])"
   ]
  },
  {
   "cell_type": "markdown",
   "id": "94b19e53",
   "metadata": {},
   "source": [
    "### 2. Relevance"
   ]
  },
  {
   "cell_type": "markdown",
   "id": "0327069c",
   "metadata": {},
   "source": [
    "The prompt should be relevant to the task or the information you are seeking."
   ]
  },
  {
   "cell_type": "code",
   "execution_count": null,
   "id": "2457ad95",
   "metadata": {},
   "outputs": [],
   "source": [
    "\"\"\"\n",
    "This prompt is direct and to the point. It asks for a specific conversion task, which is well within \n",
    "the AI's capabilities, ensuring an accurate and relevant response.\n",
    "\"\"\"\n",
    "\n",
    "relevant_prompt = \"Convert this temperature from Celsius to Fahrenheit: 25°C.\"\n",
    "response = generator(relevant_prompt, max_length=200)\n",
    "print(response[0]['generated_text'])"
   ]
  },
  {
   "cell_type": "code",
   "execution_count": null,
   "id": "8f4ef8f6",
   "metadata": {},
   "outputs": [],
   "source": [
    "\"\"\"\n",
    "This prompt is vague and lacks specificity. Without details on location, time, or particular weather aspects,\n",
    "the AI's response could be too general or not what the user is actually looking for.\n",
    "\"\"\"\n",
    "\n",
    "irrelevant_prompt = \"Tell me about the weather.\"\n",
    "response = generator(irrelevant_prompt, max_length=200)\n",
    "print(response[0]['generated_text'])"
   ]
  },
  {
   "cell_type": "markdown",
   "id": "baa1c8c8",
   "metadata": {},
   "source": [
    "### 3. Specificity"
   ]
  },
  {
   "cell_type": "markdown",
   "id": "cb94c54f",
   "metadata": {},
   "source": [
    "Specific prompts guide the model more precisely, yielding more targeted responses."
   ]
  },
  {
   "cell_type": "code",
   "execution_count": null,
   "id": "9ce33593",
   "metadata": {},
   "outputs": [],
   "source": [
    "\"\"\"\n",
    "This prompt is very specific, providing clear guidance on the poem's theme (sunset, beach) and \n",
    "length (four lines). It helps the AI to generate a focused and relevant poetic piece.\n",
    "\"\"\"\n",
    "\n",
    "specific_prompt = \"Write a four-line poem about a sunset on the beach.\"\n",
    "response = generator(specific_prompt, max_length=200)\n",
    "print(response[0]['generated_text'])"
   ]
  },
  {
   "cell_type": "code",
   "execution_count": null,
   "id": "bebd95c6",
   "metadata": {},
   "outputs": [],
   "source": [
    "\"\"\"\n",
    "This prompt is too general and open-ended. It lacks direction regarding theme, style, or length, \n",
    "leading to a wide range of possible outcomes, which may or may not align with the user's expectations.\n",
    "\"\"\"\n",
    "\n",
    "general_prompt = \"Write a poem.\"\n",
    "response = generator(general_prompt, max_length=200)\n",
    "print(response[0]['generated_text'])"
   ]
  },
  {
   "cell_type": "markdown",
   "id": "c27b7817",
   "metadata": {},
   "source": [
    "### 4. Balance Between Too Vague and Too Detailed:"
   ]
  },
  {
   "cell_type": "markdown",
   "id": "26ba1f9f",
   "metadata": {},
   "source": [
    "Finding a balance is key. Overly detailed prompts might restrict the model's creative potential, while overly vague ones might lead to irrelevant responses."
   ]
  },
  {
   "cell_type": "code",
   "execution_count": null,
   "id": "2f18e76b",
   "metadata": {},
   "outputs": [],
   "source": [
    "\"\"\"\n",
    "This prompt is excessively detailed, focusing on very specific quantities and food items. \n",
    "It might limit the AI's response to only those parameters, potentially missing out on broader nutritional \n",
    "insights.\n",
    "\"\"\"\n",
    "\n",
    "overly_detailed_prompt = \"Describe the health benefits of eating 70 grams of broccoli, 50 grams of carrots, and 80 grams of chicken breast every day.\"\n",
    "response = generator(overly_detailed_prompt, max_length=500)\n",
    "print(response[0]['generated_text'])"
   ]
  },
  {
   "cell_type": "code",
   "execution_count": null,
   "id": "8094dbfb",
   "metadata": {},
   "outputs": [],
   "source": [
    "\"\"\"\n",
    "This prompt strikes a good balance. It's specific enough to focus on the health benefits of a balanced diet, \n",
    "yet broad enough to allow for a comprehensive discussion of various aspects of nutrition and health.\n",
    "\"\"\"\n",
    "\n",
    "balanced_prompt = \"Describe the health benefits of a balanced diet.\"\n",
    "response = generator(balanced_prompt, max_length=500)\n",
    "print(response[0]['generated_text'])"
   ]
  },
  {
   "cell_type": "markdown",
   "id": "13440999",
   "metadata": {},
   "source": [
    "### 5. Influence of Word Choice and Structure:"
   ]
  },
  {
   "cell_type": "markdown",
   "id": "1e4284e6",
   "metadata": {},
   "source": [
    "Different wordings and structures can lead the model down different paths."
   ]
  },
  {
   "cell_type": "code",
   "execution_count": null,
   "id": "e84ce860",
   "metadata": {},
   "outputs": [],
   "source": [
    "\"\"\"\n",
    "This prompt is formally worded and structured, leading to a more academic or professional tone in the \n",
    "response. It guides the AI to provide a detailed and structured analysis of the economic consequences of \n",
    "global warming.\n",
    "\"\"\"\n",
    "\n",
    "prompt_formal = \"What are the economic impacts of global warming?\"\n",
    "response = generator(prompt_formal, max_length=500)\n",
    "print(response[0]['generated_text'])"
   ]
  },
  {
   "cell_type": "code",
   "execution_count": null,
   "id": "900cab7a",
   "metadata": {},
   "outputs": [],
   "source": [
    "\"\"\"\n",
    "This prompt's informal phrasing sets a conversational tone. It may lead the AI to adopt a more casual, \n",
    "perhaps less technical approach while still addressing the impact of global warming on the economy.\n",
    "\"\"\"\n",
    "\n",
    "prompt_informal = \"How's global warming messing up the economy?\"\n",
    "response = generator(prompt_informal, max_length=500)\n",
    "print(response[0]['generated_text'])"
   ]
  }
 ],
 "metadata": {
  "kernelspec": {
   "display_name": "Python 3",
   "language": "python",
   "name": "python3"
  },
  "language_info": {
   "codemirror_mode": {
    "name": "ipython",
    "version": 3
   },
   "file_extension": ".py",
   "mimetype": "text/x-python",
   "name": "python",
   "nbconvert_exporter": "python",
   "pygments_lexer": "ipython3",
   "version": "3.9.5"
  }
 },
 "nbformat": 4,
 "nbformat_minor": 5
}
